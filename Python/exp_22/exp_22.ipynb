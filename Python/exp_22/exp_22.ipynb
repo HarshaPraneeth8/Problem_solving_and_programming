{
 "cells": [
  {
   "cell_type": "markdown",
   "metadata": {},
   "source": [
    "# Experiment 22\n",
    "Design a Python script to generate statistical reports (Minimum, Maximum, Count, Average, Sum etc) on public datasets.\n"
   ]
  },
  {
   "cell_type": "code",
   "execution_count": 4,
   "metadata": {},
   "outputs": [],
   "source": [
    "import pandas as pd\n",
    "data=pd.read_csv(\"ebola_2014_2016_clean.csv\")"
   ]
  },
  {
   "cell_type": "code",
   "execution_count": 5,
   "metadata": {},
   "outputs": [
    {
     "output_type": "stream",
     "name": "stdout",
     "text": [
      "<class 'pandas.core.frame.DataFrame'>\nRangeIndex: 2485 entries, 0 to 2484\nData columns (total 4 columns):\n #   Column                                                      Non-Null Count  Dtype  \n---  ------                                                      --------------  -----  \n 0   Country                                                     2485 non-null   object \n 1   Date                                                        2485 non-null   object \n 2   Cumulative no. of confirmed, probable and suspected cases   2477 non-null   float64\n 3   Cumulative no. of confirmed, probable and suspected deaths  2485 non-null   float64\ndtypes: float64(2), object(2)\nmemory usage: 77.8+ KB\n"
     ]
    }
   ],
   "source": [
    "data.info()"
   ]
  },
  {
   "cell_type": "code",
   "execution_count": 6,
   "metadata": {},
   "outputs": [
    {
     "output_type": "execute_result",
     "data": {
      "text/plain": [
       "Country                                                        object\n",
       "Date                                                           object\n",
       "Cumulative no. of confirmed, probable and suspected cases     float64\n",
       "Cumulative no. of confirmed, probable and suspected deaths    float64\n",
       "dtype: object"
      ]
     },
     "metadata": {},
     "execution_count": 6
    }
   ],
   "source": [
    "data.dtypes"
   ]
  },
  {
   "cell_type": "code",
   "execution_count": 7,
   "metadata": {},
   "outputs": [
    {
     "output_type": "execute_result",
     "data": {
      "text/plain": [
       "        Country        Date  \\\n",
       "0        Guinea  2014-08-29   \n",
       "1       Nigeria  2014-08-29   \n",
       "2  Sierra Leone  2014-08-29   \n",
       "3       Liberia  2014-08-29   \n",
       "4  Sierra Leone  2014-09-05   \n",
       "\n",
       "   Cumulative no. of confirmed, probable and suspected cases  \\\n",
       "0                                              648.0           \n",
       "1                                               19.0           \n",
       "2                                             1026.0           \n",
       "3                                             1378.0           \n",
       "4                                             1261.0           \n",
       "\n",
       "   Cumulative no. of confirmed, probable and suspected deaths  \n",
       "0                                              430.0           \n",
       "1                                                7.0           \n",
       "2                                              422.0           \n",
       "3                                              694.0           \n",
       "4                                              491.0           "
      ],
      "text/html": "<div>\n<style scoped>\n    .dataframe tbody tr th:only-of-type {\n        vertical-align: middle;\n    }\n\n    .dataframe tbody tr th {\n        vertical-align: top;\n    }\n\n    .dataframe thead th {\n        text-align: right;\n    }\n</style>\n<table border=\"1\" class=\"dataframe\">\n  <thead>\n    <tr style=\"text-align: right;\">\n      <th></th>\n      <th>Country</th>\n      <th>Date</th>\n      <th>Cumulative no. of confirmed, probable and suspected cases</th>\n      <th>Cumulative no. of confirmed, probable and suspected deaths</th>\n    </tr>\n  </thead>\n  <tbody>\n    <tr>\n      <th>0</th>\n      <td>Guinea</td>\n      <td>2014-08-29</td>\n      <td>648.0</td>\n      <td>430.0</td>\n    </tr>\n    <tr>\n      <th>1</th>\n      <td>Nigeria</td>\n      <td>2014-08-29</td>\n      <td>19.0</td>\n      <td>7.0</td>\n    </tr>\n    <tr>\n      <th>2</th>\n      <td>Sierra Leone</td>\n      <td>2014-08-29</td>\n      <td>1026.0</td>\n      <td>422.0</td>\n    </tr>\n    <tr>\n      <th>3</th>\n      <td>Liberia</td>\n      <td>2014-08-29</td>\n      <td>1378.0</td>\n      <td>694.0</td>\n    </tr>\n    <tr>\n      <th>4</th>\n      <td>Sierra Leone</td>\n      <td>2014-09-05</td>\n      <td>1261.0</td>\n      <td>491.0</td>\n    </tr>\n  </tbody>\n</table>\n</div>"
     },
     "metadata": {},
     "execution_count": 7
    }
   ],
   "source": [
    "data.head()"
   ]
  },
  {
   "cell_type": "code",
   "execution_count": 8,
   "metadata": {},
   "outputs": [
    {
     "output_type": "execute_result",
     "data": {
      "text/plain": [
       "                       Country        Date  \\\n",
       "2480                   Liberia  2016-03-23   \n",
       "2481                     Italy  2016-03-23   \n",
       "2482                   Liberia  2016-03-23   \n",
       "2483                   Nigeria  2016-03-23   \n",
       "2484  United States of America  2016-03-23   \n",
       "\n",
       "      Cumulative no. of confirmed, probable and suspected cases  \\\n",
       "2480                                            10666.0           \n",
       "2481                                                1.0           \n",
       "2482                                                5.0           \n",
       "2483                                               20.0           \n",
       "2484                                                4.0           \n",
       "\n",
       "      Cumulative no. of confirmed, probable and suspected deaths  \n",
       "2480                                             4806.0           \n",
       "2481                                                0.0           \n",
       "2482                                                4.0           \n",
       "2483                                                8.0           \n",
       "2484                                                1.0           "
      ],
      "text/html": "<div>\n<style scoped>\n    .dataframe tbody tr th:only-of-type {\n        vertical-align: middle;\n    }\n\n    .dataframe tbody tr th {\n        vertical-align: top;\n    }\n\n    .dataframe thead th {\n        text-align: right;\n    }\n</style>\n<table border=\"1\" class=\"dataframe\">\n  <thead>\n    <tr style=\"text-align: right;\">\n      <th></th>\n      <th>Country</th>\n      <th>Date</th>\n      <th>Cumulative no. of confirmed, probable and suspected cases</th>\n      <th>Cumulative no. of confirmed, probable and suspected deaths</th>\n    </tr>\n  </thead>\n  <tbody>\n    <tr>\n      <th>2480</th>\n      <td>Liberia</td>\n      <td>2016-03-23</td>\n      <td>10666.0</td>\n      <td>4806.0</td>\n    </tr>\n    <tr>\n      <th>2481</th>\n      <td>Italy</td>\n      <td>2016-03-23</td>\n      <td>1.0</td>\n      <td>0.0</td>\n    </tr>\n    <tr>\n      <th>2482</th>\n      <td>Liberia</td>\n      <td>2016-03-23</td>\n      <td>5.0</td>\n      <td>4.0</td>\n    </tr>\n    <tr>\n      <th>2483</th>\n      <td>Nigeria</td>\n      <td>2016-03-23</td>\n      <td>20.0</td>\n      <td>8.0</td>\n    </tr>\n    <tr>\n      <th>2484</th>\n      <td>United States of America</td>\n      <td>2016-03-23</td>\n      <td>4.0</td>\n      <td>1.0</td>\n    </tr>\n  </tbody>\n</table>\n</div>"
     },
     "metadata": {},
     "execution_count": 8
    }
   ],
   "source": [
    "data.tail()"
   ]
  },
  {
   "cell_type": "code",
   "execution_count": 27,
   "metadata": {},
   "outputs": [
    {
     "output_type": "execute_result",
     "data": {
      "text/plain": [
       "Index(['Country', 'Date',\n",
       "       'Cumulative no. of confirmed, probable and suspected cases',\n",
       "       'Cumulative no. of confirmed, probable and suspected deaths'],\n",
       "      dtype='object')"
      ]
     },
     "metadata": {},
     "execution_count": 27
    }
   ],
   "source": [
    "data.columns"
   ]
  },
  {
   "cell_type": "code",
   "execution_count": 29,
   "metadata": {},
   "outputs": [
    {
     "output_type": "execute_result",
     "data": {
      "text/plain": [
       "<bound method DataFrame.items of                        Country        Date  \\\n",
       "0                       Guinea  2014-08-29   \n",
       "1                      Nigeria  2014-08-29   \n",
       "2                 Sierra Leone  2014-08-29   \n",
       "3                      Liberia  2014-08-29   \n",
       "4                 Sierra Leone  2014-09-05   \n",
       "...                        ...         ...   \n",
       "2480                   Liberia  2016-03-23   \n",
       "2481                     Italy  2016-03-23   \n",
       "2482                   Liberia  2016-03-23   \n",
       "2483                   Nigeria  2016-03-23   \n",
       "2484  United States of America  2016-03-23   \n",
       "\n",
       "      Cumulative no. of confirmed, probable and suspected cases  \\\n",
       "0                                                 648.0           \n",
       "1                                                  19.0           \n",
       "2                                                1026.0           \n",
       "3                                                1378.0           \n",
       "4                                                1261.0           \n",
       "...                                                 ...           \n",
       "2480                                            10666.0           \n",
       "2481                                                1.0           \n",
       "2482                                                5.0           \n",
       "2483                                               20.0           \n",
       "2484                                                4.0           \n",
       "\n",
       "      Cumulative no. of confirmed, probable and suspected deaths  \n",
       "0                                                 430.0           \n",
       "1                                                   7.0           \n",
       "2                                                 422.0           \n",
       "3                                                 694.0           \n",
       "4                                                 491.0           \n",
       "...                                                 ...           \n",
       "2480                                             4806.0           \n",
       "2481                                                0.0           \n",
       "2482                                                4.0           \n",
       "2483                                                8.0           \n",
       "2484                                                1.0           \n",
       "\n",
       "[2485 rows x 4 columns]>"
      ]
     },
     "metadata": {},
     "execution_count": 29
    }
   ],
   "source": [
    "data.items"
   ]
  },
  {
   "cell_type": "code",
   "execution_count": 11,
   "metadata": {},
   "outputs": [
    {
     "output_type": "execute_result",
     "data": {
      "text/plain": [
       "       Cumulative no. of confirmed, probable and suspected cases  \\\n",
       "count                                        2477.000000           \n",
       "mean                                         2553.678644           \n",
       "std                                          4427.118148           \n",
       "min                                             0.000000           \n",
       "25%                                             1.000000           \n",
       "50%                                             8.000000           \n",
       "75%                                          3657.000000           \n",
       "max                                         14122.000000           \n",
       "\n",
       "       Cumulative no. of confirmed, probable and suspected deaths  \n",
       "count                                        2485.000000           \n",
       "mean                                         1028.347686           \n",
       "std                                          1656.064372           \n",
       "min                                             0.000000           \n",
       "25%                                             0.000000           \n",
       "50%                                             6.000000           \n",
       "75%                                          2386.000000           \n",
       "max                                          4806.000000           "
      ],
      "text/html": "<div>\n<style scoped>\n    .dataframe tbody tr th:only-of-type {\n        vertical-align: middle;\n    }\n\n    .dataframe tbody tr th {\n        vertical-align: top;\n    }\n\n    .dataframe thead th {\n        text-align: right;\n    }\n</style>\n<table border=\"1\" class=\"dataframe\">\n  <thead>\n    <tr style=\"text-align: right;\">\n      <th></th>\n      <th>Cumulative no. of confirmed, probable and suspected cases</th>\n      <th>Cumulative no. of confirmed, probable and suspected deaths</th>\n    </tr>\n  </thead>\n  <tbody>\n    <tr>\n      <th>count</th>\n      <td>2477.000000</td>\n      <td>2485.000000</td>\n    </tr>\n    <tr>\n      <th>mean</th>\n      <td>2553.678644</td>\n      <td>1028.347686</td>\n    </tr>\n    <tr>\n      <th>std</th>\n      <td>4427.118148</td>\n      <td>1656.064372</td>\n    </tr>\n    <tr>\n      <th>min</th>\n      <td>0.000000</td>\n      <td>0.000000</td>\n    </tr>\n    <tr>\n      <th>25%</th>\n      <td>1.000000</td>\n      <td>0.000000</td>\n    </tr>\n    <tr>\n      <th>50%</th>\n      <td>8.000000</td>\n      <td>6.000000</td>\n    </tr>\n    <tr>\n      <th>75%</th>\n      <td>3657.000000</td>\n      <td>2386.000000</td>\n    </tr>\n    <tr>\n      <th>max</th>\n      <td>14122.000000</td>\n      <td>4806.000000</td>\n    </tr>\n  </tbody>\n</table>\n</div>"
     },
     "metadata": {},
     "execution_count": 11
    }
   ],
   "source": [
    "data.describe()"
   ]
  },
  {
   "cell_type": "code",
   "execution_count": 12,
   "metadata": {},
   "outputs": [
    {
     "output_type": "execute_result",
     "data": {
      "text/plain": [
       "Country                                                       2485\n",
       "Date                                                          2485\n",
       "Cumulative no. of confirmed, probable and suspected cases     2477\n",
       "Cumulative no. of confirmed, probable and suspected deaths    2485\n",
       "dtype: int64"
      ]
     },
     "metadata": {},
     "execution_count": 12
    }
   ],
   "source": [
    "data.count(axis=0)"
   ]
  },
  {
   "cell_type": "code",
   "execution_count": 13,
   "metadata": {},
   "outputs": [
    {
     "output_type": "execute_result",
     "data": {
      "text/plain": [
       "0       4\n",
       "1       4\n",
       "2       4\n",
       "3       4\n",
       "4       4\n",
       "       ..\n",
       "2480    4\n",
       "2481    4\n",
       "2482    4\n",
       "2483    4\n",
       "2484    4\n",
       "Length: 2485, dtype: int64"
      ]
     },
     "metadata": {},
     "execution_count": 13
    }
   ],
   "source": [
    "data.count(axis=1)"
   ]
  },
  {
   "cell_type": "code",
   "execution_count": 14,
   "metadata": {},
   "outputs": [
    {
     "output_type": "execute_result",
     "data": {
      "text/plain": [
       "Country                                                       GuineaNigeriaSierra LeoneLiberiaSierra LeoneNi...\n",
       "Date                                                          2014-08-292014-08-292014-08-292014-08-292014-0...\n",
       "Cumulative no. of confirmed, probable and suspected cases                                             6325462.0\n",
       "Cumulative no. of confirmed, probable and suspected deaths                                            2555444.0\n",
       "dtype: object"
      ]
     },
     "metadata": {},
     "execution_count": 14
    }
   ],
   "source": [
    "data.sum(axis=0)"
   ]
  },
  {
   "cell_type": "code",
   "execution_count": 15,
   "metadata": {},
   "outputs": [
    {
     "output_type": "execute_result",
     "data": {
      "text/plain": [
       "6325462.0"
      ]
     },
     "metadata": {},
     "execution_count": 15
    }
   ],
   "source": [
    "data['Cumulative no. of confirmed, probable and suspected cases'].sum()"
   ]
  },
  {
   "cell_type": "code",
   "execution_count": 16,
   "metadata": {},
   "outputs": [
    {
     "output_type": "execute_result",
     "data": {
      "text/plain": [
       "Cumulative no. of confirmed, probable and suspected cases     8.0\n",
       "Cumulative no. of confirmed, probable and suspected deaths    6.0\n",
       "dtype: float64"
      ]
     },
     "metadata": {},
     "execution_count": 16
    }
   ],
   "source": [
    "data.median()"
   ]
  },
  {
   "cell_type": "code",
   "execution_count": 17,
   "metadata": {},
   "outputs": [
    {
     "output_type": "execute_result",
     "data": {
      "text/plain": [
       "Cumulative no. of confirmed, probable and suspected cases     2553.678644\n",
       "Cumulative no. of confirmed, probable and suspected deaths    1028.347686\n",
       "dtype: float64"
      ]
     },
     "metadata": {},
     "execution_count": 17
    }
   ],
   "source": [
    "data.mean()"
   ]
  },
  {
   "cell_type": "code",
   "execution_count": 18,
   "metadata": {},
   "outputs": [
    {
     "output_type": "execute_result",
     "data": {
      "text/plain": [
       "1028.3476861167003"
      ]
     },
     "metadata": {},
     "execution_count": 18
    }
   ],
   "source": [
    "data['Cumulative no. of confirmed, probable and suspected deaths'].mean()\n"
   ]
  },
  {
   "cell_type": "code",
   "execution_count": 19,
   "metadata": {},
   "outputs": [
    {
     "output_type": "execute_result",
     "data": {
      "text/plain": [
       "Country                                                       GuineaNigeriaSierra LeoneLiberiaSierra LeoneNi...\n",
       "Date                                                          2014-08-292014-08-292014-08-292014-08-292014-0...\n",
       "Cumulative no. of confirmed, probable and suspected cases                                             6325462.0\n",
       "Cumulative no. of confirmed, probable and suspected deaths                                            2555444.0\n",
       "dtype: object"
      ]
     },
     "metadata": {},
     "execution_count": 19
    }
   ],
   "source": [
    "data.sum()"
   ]
  },
  {
   "cell_type": "code",
   "execution_count": 20,
   "metadata": {},
   "outputs": [
    {
     "output_type": "execute_result",
     "data": {
      "text/plain": [
       "2555444.0"
      ]
     },
     "metadata": {},
     "execution_count": 20
    }
   ],
   "source": [
    "data['Cumulative no. of confirmed, probable and suspected deaths'].sum()"
   ]
  },
  {
   "cell_type": "code",
   "execution_count": 21,
   "metadata": {},
   "outputs": [
    {
     "output_type": "execute_result",
     "data": {
      "text/plain": [
       "     Country        Date  \\\n",
       "0     Guinea  2014-08-29   \n",
       "1     Guinea  2014-08-29   \n",
       "2     Guinea  2014-08-29   \n",
       "3     Guinea  2014-08-29   \n",
       "4     Guinea  2014-08-29   \n",
       "...      ...         ...   \n",
       "2480  Guinea  2014-08-29   \n",
       "2481  Guinea  2014-08-29   \n",
       "2482  Guinea  2014-08-29   \n",
       "2483  Guinea  2014-08-29   \n",
       "2484  Guinea  2014-08-29   \n",
       "\n",
       "      Cumulative no. of confirmed, probable and suspected cases  \\\n",
       "0                                                 648.0           \n",
       "1                                                  19.0           \n",
       "2                                                  19.0           \n",
       "3                                                  19.0           \n",
       "4                                                  19.0           \n",
       "...                                                 ...           \n",
       "2480                                                0.0           \n",
       "2481                                                0.0           \n",
       "2482                                                0.0           \n",
       "2483                                                0.0           \n",
       "2484                                                0.0           \n",
       "\n",
       "      Cumulative no. of confirmed, probable and suspected deaths  \n",
       "0                                                 430.0           \n",
       "1                                                   7.0           \n",
       "2                                                   7.0           \n",
       "3                                                   7.0           \n",
       "4                                                   7.0           \n",
       "...                                                 ...           \n",
       "2480                                                0.0           \n",
       "2481                                                0.0           \n",
       "2482                                                0.0           \n",
       "2483                                                0.0           \n",
       "2484                                                0.0           \n",
       "\n",
       "[2485 rows x 4 columns]"
      ],
      "text/html": "<div>\n<style scoped>\n    .dataframe tbody tr th:only-of-type {\n        vertical-align: middle;\n    }\n\n    .dataframe tbody tr th {\n        vertical-align: top;\n    }\n\n    .dataframe thead th {\n        text-align: right;\n    }\n</style>\n<table border=\"1\" class=\"dataframe\">\n  <thead>\n    <tr style=\"text-align: right;\">\n      <th></th>\n      <th>Country</th>\n      <th>Date</th>\n      <th>Cumulative no. of confirmed, probable and suspected cases</th>\n      <th>Cumulative no. of confirmed, probable and suspected deaths</th>\n    </tr>\n  </thead>\n  <tbody>\n    <tr>\n      <th>0</th>\n      <td>Guinea</td>\n      <td>2014-08-29</td>\n      <td>648.0</td>\n      <td>430.0</td>\n    </tr>\n    <tr>\n      <th>1</th>\n      <td>Guinea</td>\n      <td>2014-08-29</td>\n      <td>19.0</td>\n      <td>7.0</td>\n    </tr>\n    <tr>\n      <th>2</th>\n      <td>Guinea</td>\n      <td>2014-08-29</td>\n      <td>19.0</td>\n      <td>7.0</td>\n    </tr>\n    <tr>\n      <th>3</th>\n      <td>Guinea</td>\n      <td>2014-08-29</td>\n      <td>19.0</td>\n      <td>7.0</td>\n    </tr>\n    <tr>\n      <th>4</th>\n      <td>Guinea</td>\n      <td>2014-08-29</td>\n      <td>19.0</td>\n      <td>7.0</td>\n    </tr>\n    <tr>\n      <th>...</th>\n      <td>...</td>\n      <td>...</td>\n      <td>...</td>\n      <td>...</td>\n    </tr>\n    <tr>\n      <th>2480</th>\n      <td>Guinea</td>\n      <td>2014-08-29</td>\n      <td>0.0</td>\n      <td>0.0</td>\n    </tr>\n    <tr>\n      <th>2481</th>\n      <td>Guinea</td>\n      <td>2014-08-29</td>\n      <td>0.0</td>\n      <td>0.0</td>\n    </tr>\n    <tr>\n      <th>2482</th>\n      <td>Guinea</td>\n      <td>2014-08-29</td>\n      <td>0.0</td>\n      <td>0.0</td>\n    </tr>\n    <tr>\n      <th>2483</th>\n      <td>Guinea</td>\n      <td>2014-08-29</td>\n      <td>0.0</td>\n      <td>0.0</td>\n    </tr>\n    <tr>\n      <th>2484</th>\n      <td>Guinea</td>\n      <td>2014-08-29</td>\n      <td>0.0</td>\n      <td>0.0</td>\n    </tr>\n  </tbody>\n</table>\n<p>2485 rows × 4 columns</p>\n</div>"
     },
     "metadata": {},
     "execution_count": 21
    }
   ],
   "source": [
    "data.cummin()"
   ]
  },
  {
   "cell_type": "code",
   "execution_count": 22,
   "metadata": {},
   "outputs": [
    {
     "output_type": "execute_result",
     "data": {
      "text/plain": [
       "0       6.480000e+02\n",
       "1       1.231200e+04\n",
       "2       1.263211e+07\n",
       "3       1.740705e+10\n",
       "4       2.195029e+13\n",
       "            ...     \n",
       "2480             NaN\n",
       "2481             NaN\n",
       "2482             NaN\n",
       "2483             NaN\n",
       "2484             NaN\n",
       "Name: Cumulative no. of confirmed, probable and suspected cases, Length: 2485, dtype: float64"
      ]
     },
     "metadata": {},
     "execution_count": 22
    }
   ],
   "source": [
    "data['Cumulative no. of confirmed, probable and suspected cases'].cumprod()"
   ]
  },
  {
   "cell_type": "code",
   "execution_count": 23,
   "metadata": {},
   "outputs": [
    {
     "output_type": "execute_result",
     "data": {
      "text/plain": [
       "     Country        Date  \\\n",
       "0     Guinea  2014-08-29   \n",
       "1     Guinea  2014-08-29   \n",
       "2     Guinea  2014-08-29   \n",
       "3     Guinea  2014-08-29   \n",
       "4     Guinea  2014-08-29   \n",
       "...      ...         ...   \n",
       "2480  Guinea  2014-08-29   \n",
       "2481  Guinea  2014-08-29   \n",
       "2482  Guinea  2014-08-29   \n",
       "2483  Guinea  2014-08-29   \n",
       "2484  Guinea  2014-08-29   \n",
       "\n",
       "      Cumulative no. of confirmed, probable and suspected cases  \\\n",
       "0                                                 648.0           \n",
       "1                                                  19.0           \n",
       "2                                                  19.0           \n",
       "3                                                  19.0           \n",
       "4                                                  19.0           \n",
       "...                                                 ...           \n",
       "2480                                                0.0           \n",
       "2481                                                0.0           \n",
       "2482                                                0.0           \n",
       "2483                                                0.0           \n",
       "2484                                                0.0           \n",
       "\n",
       "      Cumulative no. of confirmed, probable and suspected deaths  \n",
       "0                                                 430.0           \n",
       "1                                                   7.0           \n",
       "2                                                   7.0           \n",
       "3                                                   7.0           \n",
       "4                                                   7.0           \n",
       "...                                                 ...           \n",
       "2480                                                0.0           \n",
       "2481                                                0.0           \n",
       "2482                                                0.0           \n",
       "2483                                                0.0           \n",
       "2484                                                0.0           \n",
       "\n",
       "[2485 rows x 4 columns]"
      ],
      "text/html": "<div>\n<style scoped>\n    .dataframe tbody tr th:only-of-type {\n        vertical-align: middle;\n    }\n\n    .dataframe tbody tr th {\n        vertical-align: top;\n    }\n\n    .dataframe thead th {\n        text-align: right;\n    }\n</style>\n<table border=\"1\" class=\"dataframe\">\n  <thead>\n    <tr style=\"text-align: right;\">\n      <th></th>\n      <th>Country</th>\n      <th>Date</th>\n      <th>Cumulative no. of confirmed, probable and suspected cases</th>\n      <th>Cumulative no. of confirmed, probable and suspected deaths</th>\n    </tr>\n  </thead>\n  <tbody>\n    <tr>\n      <th>0</th>\n      <td>Guinea</td>\n      <td>2014-08-29</td>\n      <td>648.0</td>\n      <td>430.0</td>\n    </tr>\n    <tr>\n      <th>1</th>\n      <td>Guinea</td>\n      <td>2014-08-29</td>\n      <td>19.0</td>\n      <td>7.0</td>\n    </tr>\n    <tr>\n      <th>2</th>\n      <td>Guinea</td>\n      <td>2014-08-29</td>\n      <td>19.0</td>\n      <td>7.0</td>\n    </tr>\n    <tr>\n      <th>3</th>\n      <td>Guinea</td>\n      <td>2014-08-29</td>\n      <td>19.0</td>\n      <td>7.0</td>\n    </tr>\n    <tr>\n      <th>4</th>\n      <td>Guinea</td>\n      <td>2014-08-29</td>\n      <td>19.0</td>\n      <td>7.0</td>\n    </tr>\n    <tr>\n      <th>...</th>\n      <td>...</td>\n      <td>...</td>\n      <td>...</td>\n      <td>...</td>\n    </tr>\n    <tr>\n      <th>2480</th>\n      <td>Guinea</td>\n      <td>2014-08-29</td>\n      <td>0.0</td>\n      <td>0.0</td>\n    </tr>\n    <tr>\n      <th>2481</th>\n      <td>Guinea</td>\n      <td>2014-08-29</td>\n      <td>0.0</td>\n      <td>0.0</td>\n    </tr>\n    <tr>\n      <th>2482</th>\n      <td>Guinea</td>\n      <td>2014-08-29</td>\n      <td>0.0</td>\n      <td>0.0</td>\n    </tr>\n    <tr>\n      <th>2483</th>\n      <td>Guinea</td>\n      <td>2014-08-29</td>\n      <td>0.0</td>\n      <td>0.0</td>\n    </tr>\n    <tr>\n      <th>2484</th>\n      <td>Guinea</td>\n      <td>2014-08-29</td>\n      <td>0.0</td>\n      <td>0.0</td>\n    </tr>\n  </tbody>\n</table>\n<p>2485 rows × 4 columns</p>\n</div>"
     },
     "metadata": {},
     "execution_count": 23
    }
   ],
   "source": [
    "data.cummin()"
   ]
  },
  {
   "cell_type": "code",
   "execution_count": 24,
   "metadata": {},
   "outputs": [
    {
     "output_type": "execute_result",
     "data": {
      "text/plain": [
       "                       Country        Date  \\\n",
       "0                       Guinea  2014-08-29   \n",
       "1                      Nigeria  2014-08-29   \n",
       "2                 Sierra Leone  2014-08-29   \n",
       "3                 Sierra Leone  2014-08-29   \n",
       "4                 Sierra Leone  2014-09-05   \n",
       "...                        ...         ...   \n",
       "2480  United States of America  2016-03-23   \n",
       "2481  United States of America  2016-03-23   \n",
       "2482  United States of America  2016-03-23   \n",
       "2483  United States of America  2016-03-23   \n",
       "2484  United States of America  2016-03-23   \n",
       "\n",
       "      Cumulative no. of confirmed, probable and suspected cases  \\\n",
       "0                                                 648.0           \n",
       "1                                                 648.0           \n",
       "2                                                1026.0           \n",
       "3                                                1378.0           \n",
       "4                                                1378.0           \n",
       "...                                                 ...           \n",
       "2480                                            14122.0           \n",
       "2481                                            14122.0           \n",
       "2482                                            14122.0           \n",
       "2483                                            14122.0           \n",
       "2484                                            14122.0           \n",
       "\n",
       "      Cumulative no. of confirmed, probable and suspected deaths  \n",
       "0                                                 430.0           \n",
       "1                                                 430.0           \n",
       "2                                                 430.0           \n",
       "3                                                 694.0           \n",
       "4                                                 694.0           \n",
       "...                                                 ...           \n",
       "2480                                             4806.0           \n",
       "2481                                             4806.0           \n",
       "2482                                             4806.0           \n",
       "2483                                             4806.0           \n",
       "2484                                             4806.0           \n",
       "\n",
       "[2485 rows x 4 columns]"
      ],
      "text/html": "<div>\n<style scoped>\n    .dataframe tbody tr th:only-of-type {\n        vertical-align: middle;\n    }\n\n    .dataframe tbody tr th {\n        vertical-align: top;\n    }\n\n    .dataframe thead th {\n        text-align: right;\n    }\n</style>\n<table border=\"1\" class=\"dataframe\">\n  <thead>\n    <tr style=\"text-align: right;\">\n      <th></th>\n      <th>Country</th>\n      <th>Date</th>\n      <th>Cumulative no. of confirmed, probable and suspected cases</th>\n      <th>Cumulative no. of confirmed, probable and suspected deaths</th>\n    </tr>\n  </thead>\n  <tbody>\n    <tr>\n      <th>0</th>\n      <td>Guinea</td>\n      <td>2014-08-29</td>\n      <td>648.0</td>\n      <td>430.0</td>\n    </tr>\n    <tr>\n      <th>1</th>\n      <td>Nigeria</td>\n      <td>2014-08-29</td>\n      <td>648.0</td>\n      <td>430.0</td>\n    </tr>\n    <tr>\n      <th>2</th>\n      <td>Sierra Leone</td>\n      <td>2014-08-29</td>\n      <td>1026.0</td>\n      <td>430.0</td>\n    </tr>\n    <tr>\n      <th>3</th>\n      <td>Sierra Leone</td>\n      <td>2014-08-29</td>\n      <td>1378.0</td>\n      <td>694.0</td>\n    </tr>\n    <tr>\n      <th>4</th>\n      <td>Sierra Leone</td>\n      <td>2014-09-05</td>\n      <td>1378.0</td>\n      <td>694.0</td>\n    </tr>\n    <tr>\n      <th>...</th>\n      <td>...</td>\n      <td>...</td>\n      <td>...</td>\n      <td>...</td>\n    </tr>\n    <tr>\n      <th>2480</th>\n      <td>United States of America</td>\n      <td>2016-03-23</td>\n      <td>14122.0</td>\n      <td>4806.0</td>\n    </tr>\n    <tr>\n      <th>2481</th>\n      <td>United States of America</td>\n      <td>2016-03-23</td>\n      <td>14122.0</td>\n      <td>4806.0</td>\n    </tr>\n    <tr>\n      <th>2482</th>\n      <td>United States of America</td>\n      <td>2016-03-23</td>\n      <td>14122.0</td>\n      <td>4806.0</td>\n    </tr>\n    <tr>\n      <th>2483</th>\n      <td>United States of America</td>\n      <td>2016-03-23</td>\n      <td>14122.0</td>\n      <td>4806.0</td>\n    </tr>\n    <tr>\n      <th>2484</th>\n      <td>United States of America</td>\n      <td>2016-03-23</td>\n      <td>14122.0</td>\n      <td>4806.0</td>\n    </tr>\n  </tbody>\n</table>\n<p>2485 rows × 4 columns</p>\n</div>"
     },
     "metadata": {},
     "execution_count": 24
    }
   ],
   "source": [
    "data.cummax()"
   ]
  },
  {
   "cell_type": "code",
   "execution_count": 25,
   "metadata": {},
   "outputs": [
    {
     "output_type": "execute_result",
     "data": {
      "text/plain": [
       "0               NaN\n",
       "1         -0.970679\n",
       "2         53.000000\n",
       "3          0.343080\n",
       "4         -0.084906\n",
       "           ...     \n",
       "2480    1184.111111\n",
       "2481      -0.999906\n",
       "2482       4.000000\n",
       "2483       3.000000\n",
       "2484      -0.800000\n",
       "Name: Cumulative no. of confirmed, probable and suspected cases, Length: 2485, dtype: float64"
      ]
     },
     "metadata": {},
     "execution_count": 25
    }
   ],
   "source": [
    "data['Cumulative no. of confirmed, probable and suspected cases'].pct_change()"
   ]
  },
  {
   "cell_type": "markdown",
   "metadata": {},
   "source": [
    "# By\n",
    "# Harsha Praneeth D\n",
    "# 122010407003\n",
    "# ECE VLSI\n"
   ]
  }
 ],
 "metadata": {
  "interpreter": {
   "hash": "d4519df47ed4a154429d6c0f23b5bcb1216ddd1971c4954ea5062f9d8955f075"
  },
  "kernelspec": {
   "name": "python3",
   "display_name": "Python 3.9.5 64-bit"
  },
  "language_info": {
   "codemirror_mode": {
    "name": "ipython",
    "version": 3
   },
   "file_extension": ".py",
   "mimetype": "text/x-python",
   "name": "python",
   "nbconvert_exporter": "python",
   "pygments_lexer": "ipython3",
   "version": "3.9.5"
  }
 },
 "nbformat": 4,
 "nbformat_minor": 4
}